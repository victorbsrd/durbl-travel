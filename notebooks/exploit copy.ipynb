{
 "cells": [
  {
   "cell_type": "code",
   "execution_count": 1,
   "metadata": {},
   "outputs": [],
   "source": [
    "%load_ext dotenv\n",
    "%dotenv"
   ]
  },
  {
   "cell_type": "code",
   "execution_count": 5,
   "metadata": {},
   "outputs": [],
   "source": [
    "import os\n",
    "import pandas as pd\n",
    "from geopy.geocoders import GoogleV3\n",
    "from geopy.extra.rate_limiter import RateLimiter\n",
    "import numpy as np\n",
    "from datetime import timedelta\n",
    "\n",
    "import seaborn as sns\n",
    "import matplotlib.pyplot as plt\n",
    "\n"
   ]
  },
  {
   "cell_type": "code",
   "execution_count": 3,
   "metadata": {},
   "outputs": [],
   "source": [
    "df_al = pd.read_csv('../data/aller_from_paris.csv', index_col=0)\n",
    "df_re = pd.read_csv('../data/retour_to_paris.csv', index_col=0)"
   ]
  },
  {
   "cell_type": "code",
   "execution_count": 80,
   "metadata": {},
   "outputs": [],
   "source": []
  },
  {
   "cell_type": "code",
   "execution_count": 6,
   "metadata": {},
   "outputs": [],
   "source": [
    "def compute_travel_time(df):\n",
    "    df['datetime_depart'] = df['date'] + ' ' + df['heure_depart']\n",
    "    df['datetime_arrivee'] = df['date'] + ' ' + df['heure_arrivee']\n",
    "    df['datetime_depart'] = pd.to_datetime(df['datetime_depart'])\n",
    "    df['datetime_arrivee'] = pd.to_datetime(df['datetime_arrivee'])\n",
    "\n",
    "    df['temps_trajet'] = df['datetime_arrivee'] - df['datetime_depart']\n",
    "\n",
    "    df['temps_trajet'] = df['temps_trajet'].dt.total_seconds() // 60\n",
    "    df.loc[df['temps_trajet'] < 0,'datetime_arrivee'] = df.loc[df['temps_trajet'] < 0,'datetime_arrivee'] + timedelta(days = 1)\n",
    "\n",
    "    df['temps_trajet'] = df['datetime_arrivee'] - df['datetime_depart']\n",
    "    df['temps_trajet'] = df['temps_trajet'].dt.total_seconds() // 60\n",
    "\n",
    "    return df"
   ]
  },
  {
   "cell_type": "code",
   "execution_count": 7,
   "metadata": {},
   "outputs": [],
   "source": [
    "df_al = compute_travel_time(df_al)\n",
    "df_re = compute_travel_time(df_re)"
   ]
  },
  {
   "cell_type": "markdown",
   "metadata": {},
   "source": [
    "# Trip"
   ]
  },
  {
   "cell_type": "code",
   "execution_count": 8,
   "metadata": {},
   "outputs": [],
   "source": [
    "date_depart = '2022-04-05'\n",
    "date_retour = '2022-04-08'"
   ]
  },
  {
   "cell_type": "code",
   "execution_count": null,
   "metadata": {},
   "outputs": [],
   "source": [
    "df_al = df_al.set_index('datetime_depart').copy()\n",
    "df_re = df_re.set_index('datetime_depart').copy()\n"
   ]
  },
  {
   "cell_type": "code",
   "execution_count": 26,
   "metadata": {},
   "outputs": [],
   "source": [
    "def filter_datetime(df, date, hour, kind = 'before'):\n",
    "    temp = df.loc[date]\n",
    "    if kind == 'before':\n",
    "        return temp[temp.index.hour < hour]\n",
    "    elif kind == 'after':\n",
    "        return temp[temp.index.hour > hour]\n",
    "    else:\n",
    "        return None\n"
   ]
  },
  {
   "cell_type": "code",
   "execution_count": 28,
   "metadata": {},
   "outputs": [],
   "source": [
    "poss_al = filter_datetime(df_al, date_depart, 8)\n",
    "poss_re = filter_datetime(df_re, date_retour, 16, kind = 'after')"
   ]
  },
  {
   "cell_type": "code",
   "execution_count": 33,
   "metadata": {},
   "outputs": [],
   "source": [
    "cities_ok = list(set(poss_al.destination) & set(poss_re.origine))"
   ]
  },
  {
   "cell_type": "code",
   "execution_count": 34,
   "metadata": {},
   "outputs": [
    {
     "name": "stdout",
     "output_type": "stream",
     "text": [
      "['STRASBOURG', 'NIORT', 'TOURS', 'DAX', 'BETHUNE', 'CHATEAUROUX', 'GRENOBLE', 'TARBES', 'BORDEAUX ST JEAN', 'HAZEBROUCK', 'DOUAI', 'CALAIS FRETHUN', 'MONTBARD', 'ANGOULEME', 'AGDE', 'LA ROCHELLE VILLE', 'LIMOGES BENEDICTINS', 'SETE', 'MARSEILLE ST CHARLES', 'NARBONNE', 'VALENCE TGV RHONE ALPES SUD', 'Luxembourg', 'MONTAUBAN VILLE BOURBON', 'VALENCIENNES', 'SURGERES', 'PERPIGNAN', 'ANNECY', 'LYON (gares intramuros)', 'METZ VILLE', 'BOULOGNE VILLE', 'TOULOUSE MATABIAU', 'BIARRITZ', 'LOURDES', 'UZERCHE', 'NANCY', 'GOURDON', 'BESANCON VIOTTE', 'MONTPELLIER SUD DE FRANCE', 'BAYONNE', 'LILLE FLANDRES', 'LENS', 'LE CREUSOT MONTCEAU MONTCHANIN', 'ARRAS', 'LE MANS', 'CHAMBERY CHALLES LES EAUX', 'HENDAYE', 'CORBIERES VIERZON VILLE', 'SOUILLAC', 'AIX EN PROVENCE TGV', 'DUNKERQUE', 'LYON ST EXUPERY', 'CAHORS', 'VENDOME VILLIERS SUR LOIR', 'MACON LOCHE TGV', 'CORBIERES LES AUBRAIS ORLEANS', 'CHAMPAGNE ARDENNE', 'ANGERS ST LAUD', 'THIONVILLE', 'BEZIERS', 'LA SOUTERRAINE', 'POITIERS', 'CHATELLERAULT', 'NANTES', 'LILLE EUROPE', 'BRIVE LA GAILLARDE', 'ST JEAN DE LUZ CIBOURE', 'CAUSSADE TARN ET GARONNE', 'DIJON VILLE', 'ST PIERRE DES CORPS', 'REIMS', 'AVIGNON TGV', 'AIX LES BAINS LE REVARD', 'FUTUROSCOPE']\n"
     ]
    }
   ],
   "source": [
    "print(cities_ok)"
   ]
  },
  {
   "cell_type": "code",
   "execution_count": 4,
   "metadata": {},
   "outputs": [
    {
     "data": {
      "text/plain": [
       "{'LANDERNEAU', 'LUZENAC GARANOU'}"
      ]
     },
     "execution_count": 4,
     "metadata": {},
     "output_type": "execute_result"
    }
   ],
   "source": [
    "set(df_al.destination.values) - set(df_re.origine.values)"
   ]
  }
 ],
 "metadata": {
  "interpreter": {
   "hash": "bf33c7135de944bf536b01c9ac9b077f4a50344da5ddd77bd9a387231cc0a174"
  },
  "kernelspec": {
   "display_name": "Python 3.7.3 ('base')",
   "language": "python",
   "name": "python3"
  },
  "language_info": {
   "codemirror_mode": {
    "name": "ipython",
    "version": 3
   },
   "file_extension": ".py",
   "mimetype": "text/x-python",
   "name": "python",
   "nbconvert_exporter": "python",
   "pygments_lexer": "ipython3",
   "version": "3.7.3"
  },
  "orig_nbformat": 4
 },
 "nbformat": 4,
 "nbformat_minor": 2
}
